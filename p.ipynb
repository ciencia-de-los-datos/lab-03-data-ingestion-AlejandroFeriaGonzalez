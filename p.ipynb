{
 "cells": [
  {
   "cell_type": "code",
   "execution_count": 51,
   "metadata": {},
   "outputs": [],
   "source": [
    "import pandas as pd"
   ]
  },
  {
   "cell_type": "code",
   "execution_count": 52,
   "metadata": {},
   "outputs": [],
   "source": [
    "def leer_columna(linea: str, inicio: int) -> str:\n",
    "    col = \"\"\n",
    "    for i in range(inicio, len(linea)):\n",
    "        if linea[i] == \" \":\n",
    "            break\n",
    "        col += linea[i]\n",
    "    return col"
   ]
  },
  {
   "cell_type": "code",
   "execution_count": 53,
   "metadata": {},
   "outputs": [
    {
     "data": {
      "text/plain": [
       "[['1', '105', '15.9'],\n",
       " ['2', '102', '15.4'],\n",
       " ['3', '89', '13.4'],\n",
       " ['4', '60', '9.1'],\n",
       " ['5', '52', '7.9'],\n",
       " ['6', '51', '7.7'],\n",
       " ['7', '42', '6.3'],\n",
       " ['8', '38', '5.7'],\n",
       " ['9', '35', '5.3'],\n",
       " ['10', '27', '4.1'],\n",
       " ['11', '22', '3.3'],\n",
       " ['12', '22', '3.3'],\n",
       " ['13', '17', '2.6']]"
      ]
     },
     "execution_count": 53,
     "metadata": {},
     "output_type": "execute_result"
    }
   ],
   "source": [
    "with open('clusters_report.txt', 'r') as file:\n",
    "    columms = [\n",
    "        \"Cluster\", \"Cantidad de palabras clave\", \"Porcentaje de palabras clave\", \"Principales palabras clave\"]\n",
    "\n",
    "    data = []\n",
    "    skiprows = 4\n",
    "    filas = []\n",
    "\n",
    "    for row, line in enumerate(file):\n",
    "        if row < skiprows:\n",
    "            continue\n",
    "        if line.strip() == '':\n",
    "            continue\n",
    "\n",
    "        data.append(line)\n",
    "        cluster = leer_columna(line, 3)\n",
    "        if cluster == \"\":\n",
    "            continue\n",
    "\n",
    "        cant_palabras = leer_columna(line, 9)\n",
    "        cant_porcentaje_palabras = leer_columna(line, 25).replace(\",\", \".\")\n",
    "        filas.append([cluster, cant_palabras, cant_porcentaje_palabras])\n",
    "\n",
    "filas"
   ]
  },
  {
   "cell_type": "code",
   "execution_count": 54,
   "metadata": {},
   "outputs": [],
   "source": [
    "col1 = [int(row[0]) for row in filas]\n",
    "col2 = [int(row[1]) for row in filas]\n",
    "col3 = [float(row[2]) for row in filas]"
   ]
  },
  {
   "cell_type": "code",
   "execution_count": 55,
   "metadata": {},
   "outputs": [],
   "source": [
    "palabras_claves = []\n",
    "todas_palabras_claves = \"\"\n",
    "with open('clusters_report.txt', 'r') as file:\n",
    "    for row, line in enumerate(file):\n",
    "        if row < skiprows:\n",
    "            continue\n",
    "        if line.strip() == '':\n",
    "            continue\n",
    "\n",
    "        line = line.strip(\"\\n\")\n",
    "        # palabras_claves.append(line[41:].split(\", \"))\n",
    "        todas_palabras_claves += line[41:] + \" \"\n",
    "\n",
    "for palabras in todas_palabras_claves.split(\".\"):\n",
    "    palabras_claves.append(palabras)"
   ]
  },
  {
   "cell_type": "code",
   "execution_count": 56,
   "metadata": {},
   "outputs": [
    {
     "data": {
      "text/plain": [
       "'maximum power point tracking, fuzzy-logic based control, photo voltaic (pv),  photo-voltaic  system,  differential   evolution   algorithm,   evolutionary algorithm, double-fed induction generator (dfig), ant  colony  optimisation,  photo voltaic array, firefly algorithm, partial shade'"
      ]
     },
     "execution_count": 56,
     "metadata": {},
     "output_type": "execute_result"
    }
   ],
   "source": [
    "palabras_claves[0]"
   ]
  },
  {
   "cell_type": "code",
   "execution_count": 57,
   "metadata": {},
   "outputs": [],
   "source": [
    "df = pd.DataFrame({\n",
    "    \"Cluster\": col1,\n",
    "    \"Cantidad de palabras clave\": col2,\n",
    "    \"Porcentaje de palabras clave\": col3,\n",
    "    \"Principales palabras clave\": palabras_claves[:-1]\n",
    "})"
   ]
  },
  {
   "cell_type": "code",
   "execution_count": 58,
   "metadata": {},
   "outputs": [],
   "source": [
    "df.columns = df.columns.str.lower().str.replace(\" \", \"_\")\n",
    "df['principales_palabras_clave'] = df['principales_palabras_clave'].str.replace(r\"\\s{2,}\", \" \", regex=True)"
   ]
  },
  {
   "cell_type": "code",
   "execution_count": 59,
   "metadata": {},
   "outputs": [
    {
     "data": {
      "text/html": [
       "<div>\n",
       "<style scoped>\n",
       "    .dataframe tbody tr th:only-of-type {\n",
       "        vertical-align: middle;\n",
       "    }\n",
       "\n",
       "    .dataframe tbody tr th {\n",
       "        vertical-align: top;\n",
       "    }\n",
       "\n",
       "    .dataframe thead th {\n",
       "        text-align: right;\n",
       "    }\n",
       "</style>\n",
       "<table border=\"1\" class=\"dataframe\">\n",
       "  <thead>\n",
       "    <tr style=\"text-align: right;\">\n",
       "      <th></th>\n",
       "      <th>cluster</th>\n",
       "      <th>cantidad_de_palabras_clave</th>\n",
       "      <th>porcentaje_de_palabras_clave</th>\n",
       "      <th>principales_palabras_clave</th>\n",
       "    </tr>\n",
       "  </thead>\n",
       "  <tbody>\n",
       "    <tr>\n",
       "      <th>0</th>\n",
       "      <td>1</td>\n",
       "      <td>105</td>\n",
       "      <td>15.9</td>\n",
       "      <td>maximum power point tracking, fuzzy-logic base...</td>\n",
       "    </tr>\n",
       "    <tr>\n",
       "      <th>1</th>\n",
       "      <td>2</td>\n",
       "      <td>102</td>\n",
       "      <td>15.4</td>\n",
       "      <td>support vector machine, long short-term memor...</td>\n",
       "    </tr>\n",
       "    <tr>\n",
       "      <th>2</th>\n",
       "      <td>3</td>\n",
       "      <td>89</td>\n",
       "      <td>13.4</td>\n",
       "      <td>smart grid, wind power, reinforcement learnin...</td>\n",
       "    </tr>\n",
       "    <tr>\n",
       "      <th>3</th>\n",
       "      <td>4</td>\n",
       "      <td>60</td>\n",
       "      <td>9.1</td>\n",
       "      <td>wind turbine, fault diagnosis, biodiesel, fai...</td>\n",
       "    </tr>\n",
       "    <tr>\n",
       "      <th>4</th>\n",
       "      <td>5</td>\n",
       "      <td>52</td>\n",
       "      <td>7.9</td>\n",
       "      <td>electric vehicle, lithium-ion batteries, stat...</td>\n",
       "    </tr>\n",
       "  </tbody>\n",
       "</table>\n",
       "</div>"
      ],
      "text/plain": [
       "   cluster  cantidad_de_palabras_clave  porcentaje_de_palabras_clave  \\\n",
       "0        1                         105                          15.9   \n",
       "1        2                         102                          15.4   \n",
       "2        3                          89                          13.4   \n",
       "3        4                          60                           9.1   \n",
       "4        5                          52                           7.9   \n",
       "\n",
       "                          principales_palabras_clave  \n",
       "0  maximum power point tracking, fuzzy-logic base...  \n",
       "1   support vector machine, long short-term memor...  \n",
       "2   smart grid, wind power, reinforcement learnin...  \n",
       "3   wind turbine, fault diagnosis, biodiesel, fai...  \n",
       "4   electric vehicle, lithium-ion batteries, stat...  "
      ]
     },
     "execution_count": 59,
     "metadata": {},
     "output_type": "execute_result"
    }
   ],
   "source": [
    "df.head()"
   ]
  },
  {
   "cell_type": "code",
   "execution_count": 60,
   "metadata": {},
   "outputs": [
    {
     "data": {
      "text/plain": [
       "'maximum power point tracking, fuzzy-logic based control, photo voltaic (pv), photo-voltaic system, differential evolution algorithm, evolutionary algorithm, double-fed induction generator (dfig), ant colony optimisation, photo voltaic array, firefly algorithm, partial shade'"
      ]
     },
     "execution_count": 60,
     "metadata": {},
     "output_type": "execute_result"
    }
   ],
   "source": [
    "df.principales_palabras_clave.to_list()[0]"
   ]
  },
  {
   "cell_type": "code",
   "execution_count": 61,
   "metadata": {},
   "outputs": [
    {
     "data": {
      "text/plain": [
       "'maximum power point tracking, fuzzy-logic based control, photo voltaic (pv), photo-voltaic system, differential evolution algorithm, evolutionary algorithm, double-fed induction generator (dfig), ant colony optimisation, photo voltaic array, firefly algorithm, partial shade'"
      ]
     },
     "execution_count": 61,
     "metadata": {},
     "output_type": "execute_result"
    }
   ],
   "source": [
    "\"maximum power point tracking, fuzzy-logic based control, photo voltaic (pv), photo-voltaic system, differential evolution algorithm, evolutionary algorithm, double-fed induction generator (dfig), ant colony optimisation, photo voltaic array, firefly algorithm, partial shade\""
   ]
  }
 ],
 "metadata": {
  "kernelspec": {
   "display_name": "Python 3",
   "language": "python",
   "name": "python3"
  },
  "language_info": {
   "codemirror_mode": {
    "name": "ipython",
    "version": 3
   },
   "file_extension": ".py",
   "mimetype": "text/x-python",
   "name": "python",
   "nbconvert_exporter": "python",
   "pygments_lexer": "ipython3",
   "version": "3.12.2"
  }
 },
 "nbformat": 4,
 "nbformat_minor": 2
}
